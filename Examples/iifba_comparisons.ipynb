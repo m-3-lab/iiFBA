{
 "cells": [
  {
   "cell_type": "markdown",
   "id": "83d7e8ec",
   "metadata": {},
   "source": [
    "<div style=\"background-color:rgb(245, 184, 242); color: rgb(70, 11, 83); border: 2px solidrgb(255, 255, 255); padding: 10px; border-radius: 7px;\">\n",
    "Notes on Utility\n",
    "\n",
    "With only one bacteria, your only need 1 iteration\n",
    "1 bacteria in iiFBA == FBA aka you only need one iteration\n",
    "\n",
    "When you have one organism you will converge in one iteration, which is why is collapses to FBA\n",
    "\n",
    "No need for time and rates because iterative convergence helps lead to the exact behavior we can expect in the first instance. \n",
    "^^ As long as growth is limited only by environmental flux and not internal constraints\n",
    "\n",
    "If alpha zero, no insight to interaction unless there is cross-feeding, in which the consumer will consume after the first iteration\n",
    "</div>"
   ]
  },
  {
   "cell_type": "markdown",
   "id": "eb827883",
   "metadata": {},
   "source": [
    "<div class= \"alert alert-block alert-success\">\n",
    "My future steps: <br>\n",
    "- Plotting sampling (unimportant) <br>\n",
    "<br>\n",
    "\n",
    "pip installable!!! (will add to pyPI when done-done)<br>\n",
    "pip install \"git+https://github.com/m-3-lab/iiFBA.git@main#subdirectory=package\"\n",
    "\n",
    "</div>"
   ]
  },
  {
   "cell_type": "code",
   "execution_count": null,
   "id": "dd76bcb1",
   "metadata": {},
   "outputs": [],
   "source": [
    "\n"
   ]
  },
  {
   "cell_type": "code",
   "execution_count": null,
   "id": "dc8c1f86",
   "metadata": {},
   "outputs": [],
   "source": [
    "import iifba\n",
    "from iifba.utils import load_simple_models, load_example_models\n",
    "import matplotlib.pyplot as plt\n",
    "import numpy as np\n",
    "\n",
    "models, media = load_simple_models(4)\n",
    "EC, BT, media = load_example_models()\n",
    "\n",
    "rel_abund = np.ones(len(models))  # equal relative abundance for all models\n",
    "comm = iifba.Community([EC, BT], media, rel_abund=rel_abund, iters=10, objective=\"fba\")\n",
    "f, F = comm.iifba(early_stop=True) # defualt values\n",
    "\n",
    "summ = comm.summary()\n",
    "#comm.env_fluxes\n",
    "\n",
    "print(summ)  # print summary to console\n",
    "summ"
   ]
  },
  {
   "cell_type": "code",
   "execution_count": null,
   "id": "37bb7a38",
   "metadata": {},
   "outputs": [],
   "source": [
    "import iifba\n",
    "from iifba.utils import load_simple_models\n",
    "import matplotlib.pyplot as plt\n",
    "import numpy as np\n",
    "\n",
    "fig, (ax1, ax2) = plt.subplots(1, 2, figsize=(12, 6), sharey=True)\n",
    "for sim_idx in [1,2,3, 4, 5, 6, 7]:\n",
    "\tprint(\"\\n\", sim_idx)\n",
    "\tmodels, media = load_simple_models(sim_idx)\n",
    "\n",
    "\trel_abund = np.ones(len(models))  # equal relative abundance for all models\n",
    "\trel_abund[-1] = 1 * rel_abund[0]  # make last model more abundant\n",
    "\tcomm = iifba.Community(models, media, rel_abund=rel_abund, iters=5)\n",
    "\tf, F = comm.iifba(early_stop=True, v=True) # defualt values\n",
    "\n",
    "\tbiomass_id = \"exchangeBio1\"\n",
    "\tax1 = iifba.iifba_vis(F.loc[0,:][biomass_id], ax=ax1, line_lab=sim_idx)\n",
    "\tif sim_idx > 2:\n",
    "\t\tbiomass_id = \"exchangeBio2\"\n",
    "\t\tax2 = iifba.iifba_vis(F.loc[1,:][biomass_id], ax=ax2, line_lab=sim_idx)\n",
    "\telse:\n",
    "\t\tax2 = iifba.iifba_vis(np.zeros(5), ax=ax2, line_lab=sim_idx)\n",
    "#adjust plot methods\n",
    "for line_idx, line in enumerate(ax1.get_lines()):\n",
    "\tline.set_alpha(0.75)  # Set transparency for all lines in ax1\n",
    "\tline.set_lw(2*(8-line_idx))  # Vary line width for each line\n",
    "for line_idx, line in enumerate(ax2.get_lines()):\n",
    "\tline.set_alpha(0.75)  # Set transparency for all lines in ax2\n",
    "\tline.set_lw(2*(8-line_idx))\n",
    "# Update legends\n",
    "ax1.legend(['Sim. 1', 'Sim. 2', 'Sim. 3', 'Sim. 4', 'Sim. 5', \"Sim. 6\", \"Sim. 7\"])\n",
    "ax2.legend(['Sim. 1 (N/A)', 'Sim. 2 (N/A)', 'Sim. 3', 'Sim. 4', 'Sim. 5', \"Sim. 6\", \"Sim. 7\"])\n",
    "# Method 3: Get and modify legend properties\n",
    "legend1 = ax1.get_legend()\n",
    "legend2 = ax2.get_legend()\n",
    "# Use display() to show the updated plot\n",
    "ax1.set_title(\"Biomass 1\")\n",
    "ax2.set_title(\"Biomass 2\")\n",
    "fig.tight_layout()\n",
    "fig.suptitle(r\"iiFBA Results for Various Simulations\")\n"
   ]
  },
  {
   "cell_type": "markdown",
   "id": "67f88209",
   "metadata": {},
   "source": [
    "# Simple Models Implementation iiFBA\n"
   ]
  },
  {
   "cell_type": "code",
   "execution_count": null,
   "id": "781ea774",
   "metadata": {},
   "outputs": [],
   "source": [
    "import iifba\n",
    "from iifba.utils import load_simple_models\n",
    "import matplotlib.pyplot as plt\n",
    "import numpy as np\n",
    "\n",
    "fig, (ax1, ax2) = plt.subplots(1, 2, figsize=(12, 6), sharey=True)\n",
    "for sit_idx in [1,2,3, 4, 5, 6]:\n",
    "\tprint(\"\\n\", sit_idx)\n",
    "\tmodels, media = load_simple_models(sit_idx)\n",
    "\n",
    "\trel_abund = np.ones(len(models))  # equal relative abundance for all models\n",
    "\trel_abund[-1] = 4 * rel_abund[0]  # make last model more abundant\n",
    "\tf, F = iifba.iipfba(models, media, rel_abund=rel_abund, iters=10) # defualt values\n",
    "\n",
    "\tbiomass_id = \"exchangeBio1\"\n",
    "\tax1 = iifba.iifba_vis(F.loc[0,:][biomass_id], ax=ax1, line_lab=sit_idx)\n",
    "\tif sit_idx > 2:\n",
    "\t\tbiomass_id = \"exchangeBio2\"\n",
    "\t\tax2 = iifba.iifba_vis(F.loc[1,:][biomass_id], ax=ax2, line_lab=sit_idx)\n",
    "\telse:\n",
    "\t\tax2 = iifba.iifba_vis(np.zeros(10), ax=ax2, line_lab=sit_idx)\n",
    "#adjust plot meh\n",
    "for line_idx, line in enumerate(ax1.get_lines()):\n",
    "\tline.set_alpha(0.75)  # Set transparency for all lines in ax1\n",
    "\tline.set_lw(2*(7-line_idx))  # Vary line width for each line\n",
    "for line_idx, line in enumerate(ax2.get_lines()):\n",
    "\tline.set_alpha(0.75)  # Set transparency for all lines in ax2\n",
    "\tline.set_lw(2*(7-line_idx))\n",
    "# Update legends\n",
    "ax1.legend(['Situation 1', 'Situation 2', 'Situation 3', 'Situation 4', 'Situation 5', \"Situation 6\"])\n",
    "ax2.legend(['Situation 1 (N/A)', 'Situation 2 (N/A)', 'Situation 3', 'Situation 4', 'Situation 5', \"Situation 6\"])\n",
    "# Method 3: Get and modify legend properties\n",
    "legend1 = ax1.get_legend()\n",
    "legend2 = ax2.get_legend()\n",
    "# Use display() to show the updated plot\n",
    "ax1.set_title(\"Biomass 1\")\n",
    "ax2.set_title(\"Biomass 2\")\n",
    "fig.tight_layout()\n",
    "fig.suptitle(r\"iiFBA Results for Various Situations\")\n"
   ]
  },
  {
   "cell_type": "code",
   "execution_count": null,
   "id": "beafc014",
   "metadata": {},
   "outputs": [],
   "source": [
    "from IPython.display import display\n",
    "for line in ax1.get_lines():\n",
    "\tline.set_alpha(0.75)  # Set transparency for all lines in ax1\n",
    "\tline.set_lw(2)\n",
    "for line in ax2.get_lines():\n",
    "\tline.set_alpha(0.75)  # Set transparency for all lines in ax1\n",
    "\tline.set_lw(2)\n",
    "\n",
    "ax1.get_lines()[2].set_lw(4)# 5 overlaps with 3\n",
    "ax1.get_lines()[2].set_ls(\"--\")\n",
    "\n",
    "ax2.get_lines()[3].set_lw(4) # 5 overlaps with 4\n",
    "ax2.get_lines()[3].set_ls(\"--\")\n",
    "ax2.get_lines()[2].set_lw(4) # 6 overlaps with 3\n",
    "ax2.get_lines()[2].set_ls(\"--\")\n",
    "ax2.get_lines()[0].set_lw(0)\n",
    "ax2.get_lines()[1].set_lw(0)\n",
    "\n",
    "# Update legends\n",
    "ax1.legend(['Situation 1', 'Situation 2', 'Situation 3', 'Situation 4', 'Situation 5', \"Situation 6\"])\n",
    "ax2.legend(['Situation 1 (N/A)', 'Situation 2 (N/A)', 'Situation 3', 'Situation 4', 'Situation 5', \"Situation 6\"])\n",
    "\n",
    "# Method 3: Get and modify legend properties\n",
    "legend1 = ax1.get_legend()\n",
    "legend2 = ax2.get_legend()\n",
    "\n",
    "# Use display() to show the updated plot\n",
    "ax1.set_title(\"Biomass 1\")\n",
    "ax2.set_title(\"Biomass 2\")\n",
    "\n",
    "\n",
    "fig.tight_layout()\n",
    "fig.suptitle(r\"iiFBA Results for Various Situations\")\n",
    "display(fig)\n"
   ]
  },
  {
   "cell_type": "markdown",
   "id": "c3c8a1b3",
   "metadata": {},
   "source": [
    "## Compartmentalized FBA \n",
    "Making compartmentalized FBA models based on each of the 9 simulations."
   ]
  },
  {
   "cell_type": "code",
   "execution_count": 1,
   "id": "8fbe9cf8",
   "metadata": {},
   "outputs": [
    {
     "name": "stdout",
     "output_type": "stream",
     "text": [
      "Set parameter Username\n",
      "Set parameter LicenseID to value 2684253\n",
      "Academic license - for non-commercial use only - expires 2026-07-02\n"
     ]
    },
    {
     "name": "stderr",
     "output_type": "stream",
     "text": [
      "Ignoring reaction 'Ex_A' since it already exists.\n",
      "Ignoring reaction 'Ex_A' since it already exists.\n",
      "Ignoring reaction 'Ex_A' since it already exists.\n",
      "Ignoring reaction 'Ex_A' since it already exists.\n",
      "Ignoring reaction 'Ex_A' since it already exists.\n",
      "Ignoring reaction 'Ex_B' since it already exists.\n",
      "Ignoring reaction 'Ex_A' since it already exists.\n",
      "Ignoring reaction 'Ex_B' since it already exists.\n",
      "Ignoring reaction 'Ex_C' since it already exists.\n",
      "Ignoring reaction 'Ex_D' since it already exists.\n",
      "Ignoring reaction 'Ex_A' since it already exists.\n",
      "Ignoring reaction 'Ex_B' since it already exists.\n"
     ]
    },
    {
     "name": "stdout",
     "output_type": "stream",
     "text": [
      "\n",
      "Simulation 1c Models:\n",
      "compartmentalized_sim1c, Objective value: 20.0\n",
      "Ex_A             -10.0\n",
      "T_A_c1            10.0\n",
      "T_Bio1_c1         10.0\n",
      "BiomassOrg1_c1    10.0\n",
      "exchangeBio1      10.0\n",
      "Ex_B             -10.0\n",
      "T_B_c2            10.0\n",
      "T_Bio2_c2         10.0\n",
      "BiomassOrg2_c2    10.0\n",
      "exchangeBio2      10.0\n",
      "Name: fluxes, dtype: float64\n",
      "\n",
      "Simulation 2a Models:\n",
      "compartmentalized_sim2a, Objective value: 10.0\n",
      "Ex_A             -10.0\n",
      "T_A_c1             0.0\n",
      "T_Bio1_c1          0.0\n",
      "BiomassOrg1_c1     0.0\n",
      "exchangeBio1       0.0\n",
      "T_A_c2            10.0\n",
      "T_Bio2_c2         10.0\n",
      "BiomassOrg2_c2    10.0\n",
      "exchangeBio2      10.0\n",
      "Name: fluxes, dtype: float64\n",
      "\n",
      "Simulation 2b Models:\n",
      "compartmentalized_sim2b, Objective value: 10.0\n",
      "Ex_A             -10.0\n",
      "T_A_c1             0.0\n",
      "T_Bio1_c1          0.0\n",
      "BiomassOrg1_c1     0.0\n",
      "exchangeBio1       0.0\n",
      "T_A_c2            10.0\n",
      "T_Bio2_c2         10.0\n",
      "BiomassOrg2_c2    10.0\n",
      "exchangeBio2      10.0\n",
      "Name: fluxes, dtype: float64\n",
      "\n",
      "Simulation 2c Models:\n",
      "compartmentalized_sim2c, Objective value: 10.0\n",
      "Ex_A             -10.0\n",
      "T_A_c1             8.0\n",
      "T_Bio1_c1          8.0\n",
      "BiomassOrg1_c1     8.0\n",
      "exchangeBio1       8.0\n",
      "T_A_c2             2.0\n",
      "T_Bio2_c2          2.0\n",
      "BiomassOrg2_c2     2.0\n",
      "exchangeBio2       2.0\n",
      "Name: fluxes, dtype: float64\n",
      "\n",
      "Simulation 2d Models:\n",
      "compartmentalized_sim2d, Objective value: 10.0\n",
      "Ex_A             -10.0\n",
      "T_A_c1             6.0\n",
      "T_Bio1_c1          6.0\n",
      "BiomassOrg1_c1     6.0\n",
      "exchangeBio1       6.0\n",
      "T_A_c2             4.0\n",
      "T_Bio2_c2          4.0\n",
      "BiomassOrg2_c2     4.0\n",
      "exchangeBio2       4.0\n",
      "Name: fluxes, dtype: float64\n",
      "\n",
      "Simulation 2e Models:\n",
      "compartmentalized_sim2e, Objective value: 5.0\n",
      "Ex_A             -5.0\n",
      "T_A_c1            4.0\n",
      "T_Bio1_c1         4.0\n",
      "BiomassOrg1_c1    4.0\n",
      "exchangeBio1      4.0\n",
      "T_A_c2            1.0\n",
      "T_Bio2_c2         1.0\n",
      "BiomassOrg2_c2    1.0\n",
      "exchangeBio2      1.0\n",
      "Name: fluxes, dtype: float64\n",
      "\n",
      "Simulation 3a Models:\n",
      "compartmentalized_sim3a, Objective value: 30.0\n",
      "Ex_A              -10.0\n",
      "Ex_B                0.0\n",
      "T_A_c1             10.0\n",
      "T_B_c1            -10.0\n",
      "T_Bio1_c1          20.0\n",
      "BiomassFromA_c1    10.0\n",
      "BiomassFromB_c1    10.0\n",
      "exchangeBio1       20.0\n",
      "Ex_C              -10.0\n",
      "T_C_c2             10.0\n",
      "T_B_c2             10.0\n",
      "T_Bio2_c2          10.0\n",
      "BiomassFromC_c2    10.0\n",
      "exchangeBio2       10.0\n",
      "Name: fluxes, dtype: float64\n",
      "\n",
      "Simulation 3b Models:\n",
      "compartmentalized_sim3b, Objective value: 40.0\n",
      "Ex_A              -10.0\n",
      "Ex_B                0.0\n",
      "Ex_C                0.0\n",
      "Ex_D                0.0\n",
      "T_A_c1             10.0\n",
      "T_B_c1             10.0\n",
      "T_C_c1             10.0\n",
      "T_D_c1             10.0\n",
      "T_Bio1_c1          20.0\n",
      "BiomassFromA_c1    10.0\n",
      "BiomassFromC_c1    10.0\n",
      "exchangeBio1       20.0\n",
      "T_A_c2              0.0\n",
      "T_B_c2            -10.0\n",
      "T_C_c2            -10.0\n",
      "T_D_c2            -10.0\n",
      "T_Bio2_c2          20.0\n",
      "BiomassFromB_c2    10.0\n",
      "BiomassFromD_c2    10.0\n",
      "exchangeBio2       20.0\n",
      "Name: fluxes, dtype: float64\n",
      "\n",
      "Simulation 3c Models:\n",
      "compartmentalized_sim3c, Objective value: 20.0\n",
      "Ex_A              -10.0\n",
      "Ex_B                0.0\n",
      "T_A_c1             10.0\n",
      "T_B_c1             10.0\n",
      "T_Bio1_c1          10.0\n",
      "BiomassFromA_c1    10.0\n",
      "exchangeBio1       10.0\n",
      "T_A_c2              0.0\n",
      "T_B_c2            -10.0\n",
      "T_Bio2_c2          10.0\n",
      "BiomassFromA_c2     0.0\n",
      "BiomassFromB_c2    10.0\n",
      "exchangeBio2       10.0\n",
      "Name: fluxes, dtype: float64\n"
     ]
    }
   ],
   "source": [
    "from cobra import Model\n",
    "import pandas as pd\n",
    "import cobra as cb\n",
    "import iifba\n",
    "\n",
    "cfba_results = pd.DataFrame(columns=[\"simulation\", \"Org1_growth\", \"Org2_growth\"])\n",
    "\n",
    "for sit_idx in [\"1c\", \"2a\", \"2b\",\"2c\", \"2d\",\"2e\", \"3a\", \"3b\", \"3c\"]: \n",
    "\tmodels, media = iifba.utils.load_simple_models(sit_idx)\n",
    "\tprint(f\"\\nSimulation {sit_idx} Models:\")\n",
    "\tfor model in models:\n",
    "\t\tfor ex in model.exchanges:\n",
    "\t\t\tex.lower_bound = 0  # Set lower bound to 0 for all exchange reactions\n",
    "\t\tfor med_ex in media.keys():\n",
    "\t\t\tif med_ex in model.reactions:\n",
    "\t\t\t\tmodel.reactions.get_by_id(med_ex).lower_bound = media[med_ex]\n",
    "\t\t\t\t\n",
    "\n",
    "\tfor model_idx, model in enumerate(models):\n",
    "\t\t# Change compartments for each model so that models[i] uses e0 and c{i+1} compartments\n",
    "\t\tfor met in model.metabolites:\n",
    "\t\t\tif met.compartment == \"c\":\n",
    "\t\t\t\tmet.compartment = f\"c{model_idx+1}\"\n",
    "\t\t\t\tid = met.id.replace(\"bio1\", \"bio_c\").replace(\"bio2\", \"bio_c\").replace(\"_c\", f\"_c{model_idx+1}\")\n",
    "\t\t\t\tmet.id = id\n",
    "\t\t\n",
    "\t\tfor rxn in model.reactions:\n",
    "\t\t\t# Change the compartment of the reaction to match the new metabolite compartments\n",
    "\t\t\tfor met in rxn.metabolites.copy():\n",
    "\t\t\t\tif met.compartment.startswith(\"c\"):\n",
    "\t\t\t\t\tif not rxn.id.endswith(f\"_{met.compartment}\"):\n",
    "\t\t\t\t\t# Find the metabolite object with the new id in the model\n",
    "\t\t\t\t\t\trxn.id = rxn.id + f\"_{met.compartment}\"\n",
    "\n",
    "\t# Merge the two models into a single compartmentalized model\n",
    "\tcomp_model = Model(f\"compartmentalized_sim{sit_idx}\")\n",
    "\tfor m in models:\n",
    "\t\tcomp_model.add_metabolites([met.copy() for met in m.metabolites])\n",
    "\t\tcomp_model.add_reactions([rxn.copy() for rxn in m.reactions])\n",
    "\n",
    "\n",
    "\t# Example: print the objective value after optimizing the compartmentalized model\n",
    "\tobjective_reactions = [comp_model.reactions.get_by_id(f\"exchangeBio{i+1}\") for i in range(len(models))]\n",
    "\tobjective_rxns_coef = [1] * len(objective_reactions)\n",
    "\n",
    "\t\t\t\n",
    "\tcomp_model.objective = dict(zip(objective_reactions, objective_rxns_coef))\n",
    "\n",
    "\tsolution = comp_model.optimize()\n",
    "\tcb.io.save_json_model(comp_model, f\"Simple_Models/cFBA_Models/cFBA_sim{sit_idx}.json\")\n",
    "\tprint(f\"{comp_model.id}, Objective value: {solution.objective_value}\")\n",
    "\tprint(solution.fluxes)\n",
    "\n",
    "\tcfba_results.loc[len(cfba_results)] = [sit_idx] + [solution.fluxes.get(f\"exchangeBio{i+1}\") for i in range(len(models))]\n",
    "\n",
    "cfba_results.to_csv(\"Simple_Models/Results/cFBA_results.csv\", index=False)"
   ]
  },
  {
   "cell_type": "markdown",
   "id": "360e72e6",
   "metadata": {},
   "source": [
    "\n",
    "\n",
    "| Simulation | cFBA Biomass 1 | cFBA Biomass 2|\n",
    "|:----:|:-------:|:---:|\n",
    "|1a| 10| N/A|\n",
    "|1b|20| N/A|\n",
    "|1c|10|10|\n",
    "|2a|0<=B1<=10| B2=10-B1|\n",
    "|2b|0<=B1<=10| B2=10-B1|\n",
    "|2c| 2| 8|\n",
    "|3a|20 |10 |\n",
    "|3c|20|20|\n",
    "|3b|10|10|\n"
   ]
  },
  {
   "cell_type": "markdown",
   "id": "954749ca",
   "metadata": {},
   "source": [
    "## MICOM\n"
   ]
  },
  {
   "cell_type": "code",
   "execution_count": 2,
   "id": "46cecda9",
   "metadata": {},
   "outputs": [
    {
     "data": {
      "application/vnd.jupyter.widget-view+json": {
       "model_id": "b2e4f5f65ee34b299a166904e40e3dde",
       "version_major": 2,
       "version_minor": 0
      },
      "text/plain": [
       "Output()"
      ]
     },
     "metadata": {},
     "output_type": "display_data"
    },
    {
     "data": {
      "text/html": [
       "<pre style=\"white-space:pre;overflow-x:auto;line-height:normal;font-family:Menlo,'DejaVu Sans Mono',consolas,'Courier New',monospace\"></pre>\n"
      ],
      "text/plain": []
     },
     "metadata": {},
     "output_type": "display_data"
    },
    {
     "data": {
      "text/html": [
       "<pre style=\"white-space:pre;overflow-x:auto;line-height:normal;font-family:Menlo,'DejaVu Sans Mono',consolas,'Courier New',monospace\"><span style=\"color: #7fbfbf; text-decoration-color: #7fbfbf\">[10/22/25 15:02:46] </span><span style=\"color: #808000; text-decoration-color: #808000\">WARNING </span> There does not seem to be any carbon source in your medium. Please    <a href=\"file:///home/rseag/anaconda3/envs/MBE2/lib/python3.10/site-packages/micom/community.py\" target=\"_blank\"><span style=\"color: #7f7f7f; text-decoration-color: #7f7f7f\">community.py</span></a><span style=\"color: #7f7f7f; text-decoration-color: #7f7f7f\">:</span><a href=\"file:///home/rseag/anaconda3/envs/MBE2/lib/python3.10/site-packages/micom/community.py#667\" target=\"_blank\"><span style=\"color: #7f7f7f; text-decoration-color: #7f7f7f\">667</span></a>\n",
       "<span style=\"color: #7fbfbf; text-decoration-color: #7fbfbf\">                    </span>         double-check your medium IDs.                                         <span style=\"color: #7f7f7f; text-decoration-color: #7f7f7f\">                </span>\n",
       "</pre>\n"
      ],
      "text/plain": [
       "\u001b[2;36m[10/22/25 15:02:46]\u001b[0m\u001b[2;36m \u001b[0m\u001b[33mWARNING \u001b[0m There does not seem to be any carbon source in your medium. Please    \u001b]8;id=401643;file:///home/rseag/anaconda3/envs/MBE2/lib/python3.10/site-packages/micom/community.py\u001b\\\u001b[2mcommunity.py\u001b[0m\u001b]8;;\u001b\\\u001b[2m:\u001b[0m\u001b]8;id=805835;file:///home/rseag/anaconda3/envs/MBE2/lib/python3.10/site-packages/micom/community.py#667\u001b\\\u001b[2m667\u001b[0m\u001b]8;;\u001b\\\n",
       "\u001b[2;36m                    \u001b[0m         double-check your medium IDs.                                         \u001b[2m                \u001b[0m\n"
      ]
     },
     "metadata": {},
     "output_type": "display_data"
    },
    {
     "data": {
      "application/vnd.jupyter.widget-view+json": {
       "model_id": "883fe69027b34217889ef4525aaebc8b",
       "version_major": 2,
       "version_minor": 0
      },
      "text/plain": [
       "Output()"
      ]
     },
     "metadata": {},
     "output_type": "display_data"
    },
    {
     "name": "stdout",
     "output_type": "stream",
     "text": [
      "1c\n",
      "Solution alpha: 1.0  [10. 10.]\n",
      "Solution alpha: 0.8  [8. 8.]\n",
      "Solution alpha: 0.6  [6. 6.]\n",
      "Solution alpha: 0.4  [4. 4.]\n",
      "Solution alpha: 0.2  [2. 2.]\n",
      "Solution alpha: 0.0  [0. 0.]\n",
      "\n"
     ]
    },
    {
     "data": {
      "text/html": [
       "<pre style=\"white-space:pre;overflow-x:auto;line-height:normal;font-family:Menlo,'DejaVu Sans Mono',consolas,'Courier New',monospace\"></pre>\n"
      ],
      "text/plain": []
     },
     "metadata": {},
     "output_type": "display_data"
    },
    {
     "data": {
      "text/html": [
       "<pre style=\"white-space:pre;overflow-x:auto;line-height:normal;font-family:Menlo,'DejaVu Sans Mono',consolas,'Courier New',monospace\"><span style=\"color: #7fbfbf; text-decoration-color: #7fbfbf\">                    </span><span style=\"color: #808000; text-decoration-color: #808000\">WARNING </span> There does not seem to be any carbon source in your medium. Please    <a href=\"file:///home/rseag/anaconda3/envs/MBE2/lib/python3.10/site-packages/micom/community.py\" target=\"_blank\"><span style=\"color: #7f7f7f; text-decoration-color: #7f7f7f\">community.py</span></a><span style=\"color: #7f7f7f; text-decoration-color: #7f7f7f\">:</span><a href=\"file:///home/rseag/anaconda3/envs/MBE2/lib/python3.10/site-packages/micom/community.py#667\" target=\"_blank\"><span style=\"color: #7f7f7f; text-decoration-color: #7f7f7f\">667</span></a>\n",
       "<span style=\"color: #7fbfbf; text-decoration-color: #7fbfbf\">                    </span>         double-check your medium IDs.                                         <span style=\"color: #7f7f7f; text-decoration-color: #7f7f7f\">                </span>\n",
       "</pre>\n"
      ],
      "text/plain": [
       "\u001b[2;36m                   \u001b[0m\u001b[2;36m \u001b[0m\u001b[33mWARNING \u001b[0m There does not seem to be any carbon source in your medium. Please    \u001b]8;id=189509;file:///home/rseag/anaconda3/envs/MBE2/lib/python3.10/site-packages/micom/community.py\u001b\\\u001b[2mcommunity.py\u001b[0m\u001b]8;;\u001b\\\u001b[2m:\u001b[0m\u001b]8;id=332795;file:///home/rseag/anaconda3/envs/MBE2/lib/python3.10/site-packages/micom/community.py#667\u001b\\\u001b[2m667\u001b[0m\u001b]8;;\u001b\\\n",
       "\u001b[2;36m                    \u001b[0m         double-check your medium IDs.                                         \u001b[2m                \u001b[0m\n"
      ]
     },
     "metadata": {},
     "output_type": "display_data"
    },
    {
     "data": {
      "application/vnd.jupyter.widget-view+json": {
       "model_id": "b969bef0013f45848a299a272c32a575",
       "version_major": 2,
       "version_minor": 0
      },
      "text/plain": [
       "Output()"
      ]
     },
     "metadata": {},
     "output_type": "display_data"
    },
    {
     "name": "stdout",
     "output_type": "stream",
     "text": [
      "2a\n",
      "Solution alpha: 1.0  [5. 5.]\n",
      "Solution alpha: 0.8  [4. 4.]\n",
      "Solution alpha: 0.6  [3. 3.]\n",
      "Solution alpha: 0.4  [2. 2.]\n",
      "Solution alpha: 0.2  [1. 1.]\n",
      "Solution alpha: 0.0  [0. 0.]\n",
      "\n"
     ]
    },
    {
     "data": {
      "text/html": [
       "<pre style=\"white-space:pre;overflow-x:auto;line-height:normal;font-family:Menlo,'DejaVu Sans Mono',consolas,'Courier New',monospace\"></pre>\n"
      ],
      "text/plain": []
     },
     "metadata": {},
     "output_type": "display_data"
    },
    {
     "data": {
      "text/html": [
       "<pre style=\"white-space:pre;overflow-x:auto;line-height:normal;font-family:Menlo,'DejaVu Sans Mono',consolas,'Courier New',monospace\"><span style=\"color: #7fbfbf; text-decoration-color: #7fbfbf\">                    </span><span style=\"color: #808000; text-decoration-color: #808000\">WARNING </span> There does not seem to be any carbon source in your medium. Please    <a href=\"file:///home/rseag/anaconda3/envs/MBE2/lib/python3.10/site-packages/micom/community.py\" target=\"_blank\"><span style=\"color: #7f7f7f; text-decoration-color: #7f7f7f\">community.py</span></a><span style=\"color: #7f7f7f; text-decoration-color: #7f7f7f\">:</span><a href=\"file:///home/rseag/anaconda3/envs/MBE2/lib/python3.10/site-packages/micom/community.py#667\" target=\"_blank\"><span style=\"color: #7f7f7f; text-decoration-color: #7f7f7f\">667</span></a>\n",
       "<span style=\"color: #7fbfbf; text-decoration-color: #7fbfbf\">                    </span>         double-check your medium IDs.                                         <span style=\"color: #7f7f7f; text-decoration-color: #7f7f7f\">                </span>\n",
       "</pre>\n"
      ],
      "text/plain": [
       "\u001b[2;36m                   \u001b[0m\u001b[2;36m \u001b[0m\u001b[33mWARNING \u001b[0m There does not seem to be any carbon source in your medium. Please    \u001b]8;id=524049;file:///home/rseag/anaconda3/envs/MBE2/lib/python3.10/site-packages/micom/community.py\u001b\\\u001b[2mcommunity.py\u001b[0m\u001b]8;;\u001b\\\u001b[2m:\u001b[0m\u001b]8;id=977761;file:///home/rseag/anaconda3/envs/MBE2/lib/python3.10/site-packages/micom/community.py#667\u001b\\\u001b[2m667\u001b[0m\u001b]8;;\u001b\\\n",
       "\u001b[2;36m                    \u001b[0m         double-check your medium IDs.                                         \u001b[2m                \u001b[0m\n"
      ]
     },
     "metadata": {},
     "output_type": "display_data"
    },
    {
     "data": {
      "application/vnd.jupyter.widget-view+json": {
       "model_id": "af023a23282f446698c571e7d5556c0f",
       "version_major": 2,
       "version_minor": 0
      },
      "text/plain": [
       "Output()"
      ]
     },
     "metadata": {},
     "output_type": "display_data"
    },
    {
     "name": "stdout",
     "output_type": "stream",
     "text": [
      "2b\n",
      "Solution alpha: 1.0  [0.58823529 9.41176471]\n",
      "Solution alpha: 0.8  [0.47058824 7.52941176]\n",
      "Solution alpha: 0.6  [0.35294118 5.64705882]\n",
      "Solution alpha: 0.4  [0.23529412 3.76470588]\n",
      "Solution alpha: 0.2  [0.11764706 1.88235294]\n",
      "Solution alpha: 0.0  [0. 0.]\n",
      "\n"
     ]
    },
    {
     "data": {
      "text/html": [
       "<pre style=\"white-space:pre;overflow-x:auto;line-height:normal;font-family:Menlo,'DejaVu Sans Mono',consolas,'Courier New',monospace\"></pre>\n"
      ],
      "text/plain": []
     },
     "metadata": {},
     "output_type": "display_data"
    },
    {
     "data": {
      "text/html": [
       "<pre style=\"white-space:pre;overflow-x:auto;line-height:normal;font-family:Menlo,'DejaVu Sans Mono',consolas,'Courier New',monospace\"><span style=\"color: #7fbfbf; text-decoration-color: #7fbfbf\">[10/22/25 15:02:47] </span><span style=\"color: #808000; text-decoration-color: #808000\">WARNING </span> There does not seem to be any carbon source in your medium. Please    <a href=\"file:///home/rseag/anaconda3/envs/MBE2/lib/python3.10/site-packages/micom/community.py\" target=\"_blank\"><span style=\"color: #7f7f7f; text-decoration-color: #7f7f7f\">community.py</span></a><span style=\"color: #7f7f7f; text-decoration-color: #7f7f7f\">:</span><a href=\"file:///home/rseag/anaconda3/envs/MBE2/lib/python3.10/site-packages/micom/community.py#667\" target=\"_blank\"><span style=\"color: #7f7f7f; text-decoration-color: #7f7f7f\">667</span></a>\n",
       "<span style=\"color: #7fbfbf; text-decoration-color: #7fbfbf\">                    </span>         double-check your medium IDs.                                         <span style=\"color: #7f7f7f; text-decoration-color: #7f7f7f\">                </span>\n",
       "</pre>\n"
      ],
      "text/plain": [
       "\u001b[2;36m[10/22/25 15:02:47]\u001b[0m\u001b[2;36m \u001b[0m\u001b[33mWARNING \u001b[0m There does not seem to be any carbon source in your medium. Please    \u001b]8;id=265841;file:///home/rseag/anaconda3/envs/MBE2/lib/python3.10/site-packages/micom/community.py\u001b\\\u001b[2mcommunity.py\u001b[0m\u001b]8;;\u001b\\\u001b[2m:\u001b[0m\u001b]8;id=475133;file:///home/rseag/anaconda3/envs/MBE2/lib/python3.10/site-packages/micom/community.py#667\u001b\\\u001b[2m667\u001b[0m\u001b]8;;\u001b\\\n",
       "\u001b[2;36m                    \u001b[0m         double-check your medium IDs.                                         \u001b[2m                \u001b[0m\n"
      ]
     },
     "metadata": {},
     "output_type": "display_data"
    },
    {
     "name": "stdout",
     "output_type": "stream",
     "text": [
      "2c\n",
      "Solution alpha: 1.0  [4. 1.]\n",
      "Solution alpha: 0.8  [3. 1.]\n",
      "Solution alpha: 0.6  [2. 1.]\n",
      "Solution alpha: 0.4  [1.00001291 0.99998709]\n",
      "Solution alpha: 0.2  [0.5 0.5]\n",
      "Solution alpha: 0.0  [0. 0.]\n",
      "\n"
     ]
    },
    {
     "data": {
      "application/vnd.jupyter.widget-view+json": {
       "model_id": "5d2443fa13a24768a5eb30afc921e884",
       "version_major": 2,
       "version_minor": 0
      },
      "text/plain": [
       "Output()"
      ]
     },
     "metadata": {},
     "output_type": "display_data"
    },
    {
     "data": {
      "text/html": [
       "<pre style=\"white-space:pre;overflow-x:auto;line-height:normal;font-family:Menlo,'DejaVu Sans Mono',consolas,'Courier New',monospace\"></pre>\n"
      ],
      "text/plain": []
     },
     "metadata": {},
     "output_type": "display_data"
    },
    {
     "data": {
      "text/html": [
       "<pre style=\"white-space:pre;overflow-x:auto;line-height:normal;font-family:Menlo,'DejaVu Sans Mono',consolas,'Courier New',monospace\"><span style=\"color: #7fbfbf; text-decoration-color: #7fbfbf\">                    </span><span style=\"color: #808000; text-decoration-color: #808000\">WARNING </span> There does not seem to be any carbon source in your medium. Please    <a href=\"file:///home/rseag/anaconda3/envs/MBE2/lib/python3.10/site-packages/micom/community.py\" target=\"_blank\"><span style=\"color: #7f7f7f; text-decoration-color: #7f7f7f\">community.py</span></a><span style=\"color: #7f7f7f; text-decoration-color: #7f7f7f\">:</span><a href=\"file:///home/rseag/anaconda3/envs/MBE2/lib/python3.10/site-packages/micom/community.py#667\" target=\"_blank\"><span style=\"color: #7f7f7f; text-decoration-color: #7f7f7f\">667</span></a>\n",
       "<span style=\"color: #7fbfbf; text-decoration-color: #7fbfbf\">                    </span>         double-check your medium IDs.                                         <span style=\"color: #7f7f7f; text-decoration-color: #7f7f7f\">                </span>\n",
       "</pre>\n"
      ],
      "text/plain": [
       "\u001b[2;36m                   \u001b[0m\u001b[2;36m \u001b[0m\u001b[33mWARNING \u001b[0m There does not seem to be any carbon source in your medium. Please    \u001b]8;id=564157;file:///home/rseag/anaconda3/envs/MBE2/lib/python3.10/site-packages/micom/community.py\u001b\\\u001b[2mcommunity.py\u001b[0m\u001b]8;;\u001b\\\u001b[2m:\u001b[0m\u001b]8;id=96550;file:///home/rseag/anaconda3/envs/MBE2/lib/python3.10/site-packages/micom/community.py#667\u001b\\\u001b[2m667\u001b[0m\u001b]8;;\u001b\\\n",
       "\u001b[2;36m                    \u001b[0m         double-check your medium IDs.                                         \u001b[2m                \u001b[0m\n"
      ]
     },
     "metadata": {},
     "output_type": "display_data"
    },
    {
     "name": "stdout",
     "output_type": "stream",
     "text": [
      "2d\n"
     ]
    },
    {
     "data": {
      "application/vnd.jupyter.widget-view+json": {
       "model_id": "609bbd0fb4254bb0940f0b962de0dd5e",
       "version_major": 2,
       "version_minor": 0
      },
      "text/plain": [
       "Output()"
      ]
     },
     "metadata": {},
     "output_type": "display_data"
    },
    {
     "name": "stdout",
     "output_type": "stream",
     "text": [
      "Solution alpha: 1.0  [8. 2.]\n",
      "Solution alpha: 0.8  [6. 2.]\n",
      "Solution alpha: 0.6  [4. 2.]\n",
      "Solution alpha: 0.4  [2.00001285 1.99998715]\n",
      "Solution alpha: 0.2  [1. 1.]\n",
      "Solution alpha: 0.0  [0. 0.]\n",
      "\n"
     ]
    },
    {
     "data": {
      "text/html": [
       "<pre style=\"white-space:pre;overflow-x:auto;line-height:normal;font-family:Menlo,'DejaVu Sans Mono',consolas,'Courier New',monospace\"></pre>\n"
      ],
      "text/plain": []
     },
     "metadata": {},
     "output_type": "display_data"
    },
    {
     "data": {
      "text/html": [
       "<pre style=\"white-space:pre;overflow-x:auto;line-height:normal;font-family:Menlo,'DejaVu Sans Mono',consolas,'Courier New',monospace\"><span style=\"color: #7fbfbf; text-decoration-color: #7fbfbf\">                    </span><span style=\"color: #808000; text-decoration-color: #808000\">WARNING </span> There does not seem to be any carbon source in your medium. Please    <a href=\"file:///home/rseag/anaconda3/envs/MBE2/lib/python3.10/site-packages/micom/community.py\" target=\"_blank\"><span style=\"color: #7f7f7f; text-decoration-color: #7f7f7f\">community.py</span></a><span style=\"color: #7f7f7f; text-decoration-color: #7f7f7f\">:</span><a href=\"file:///home/rseag/anaconda3/envs/MBE2/lib/python3.10/site-packages/micom/community.py#667\" target=\"_blank\"><span style=\"color: #7f7f7f; text-decoration-color: #7f7f7f\">667</span></a>\n",
       "<span style=\"color: #7fbfbf; text-decoration-color: #7fbfbf\">                    </span>         double-check your medium IDs.                                         <span style=\"color: #7f7f7f; text-decoration-color: #7f7f7f\">                </span>\n",
       "</pre>\n"
      ],
      "text/plain": [
       "\u001b[2;36m                   \u001b[0m\u001b[2;36m \u001b[0m\u001b[33mWARNING \u001b[0m There does not seem to be any carbon source in your medium. Please    \u001b]8;id=60314;file:///home/rseag/anaconda3/envs/MBE2/lib/python3.10/site-packages/micom/community.py\u001b\\\u001b[2mcommunity.py\u001b[0m\u001b]8;;\u001b\\\u001b[2m:\u001b[0m\u001b]8;id=68049;file:///home/rseag/anaconda3/envs/MBE2/lib/python3.10/site-packages/micom/community.py#667\u001b\\\u001b[2m667\u001b[0m\u001b]8;;\u001b\\\n",
       "\u001b[2;36m                    \u001b[0m         double-check your medium IDs.                                         \u001b[2m                \u001b[0m\n"
      ]
     },
     "metadata": {},
     "output_type": "display_data"
    },
    {
     "name": "stdout",
     "output_type": "stream",
     "text": [
      "2e\n"
     ]
    },
    {
     "data": {
      "application/vnd.jupyter.widget-view+json": {
       "model_id": "e3efb5bd24d643f4b15e3b5f105e3a3d",
       "version_major": 2,
       "version_minor": 0
      },
      "text/plain": [
       "Output()"
      ]
     },
     "metadata": {},
     "output_type": "display_data"
    },
    {
     "name": "stdout",
     "output_type": "stream",
     "text": [
      "Solution alpha: 1.0  [2.  0.5]\n",
      "Solution alpha: 0.8  [1.5 0.5]\n",
      "Solution alpha: 0.6  [1.  0.5]\n",
      "Solution alpha: 0.4  [0.50000861 0.49999139]\n",
      "Solution alpha: 0.2  [0.25 0.25]\n",
      "Solution alpha: 0.0  [0. 0.]\n",
      "\n"
     ]
    },
    {
     "data": {
      "text/html": [
       "<pre style=\"white-space:pre;overflow-x:auto;line-height:normal;font-family:Menlo,'DejaVu Sans Mono',consolas,'Courier New',monospace\"></pre>\n"
      ],
      "text/plain": []
     },
     "metadata": {},
     "output_type": "display_data"
    },
    {
     "data": {
      "text/html": [
       "<pre style=\"white-space:pre;overflow-x:auto;line-height:normal;font-family:Menlo,'DejaVu Sans Mono',consolas,'Courier New',monospace\"><span style=\"color: #7fbfbf; text-decoration-color: #7fbfbf\">                    </span><span style=\"color: #808000; text-decoration-color: #808000\">WARNING </span> There does not seem to be any carbon source in your medium. Please    <a href=\"file:///home/rseag/anaconda3/envs/MBE2/lib/python3.10/site-packages/micom/community.py\" target=\"_blank\"><span style=\"color: #7f7f7f; text-decoration-color: #7f7f7f\">community.py</span></a><span style=\"color: #7f7f7f; text-decoration-color: #7f7f7f\">:</span><a href=\"file:///home/rseag/anaconda3/envs/MBE2/lib/python3.10/site-packages/micom/community.py#667\" target=\"_blank\"><span style=\"color: #7f7f7f; text-decoration-color: #7f7f7f\">667</span></a>\n",
       "<span style=\"color: #7fbfbf; text-decoration-color: #7fbfbf\">                    </span>         double-check your medium IDs.                                         <span style=\"color: #7f7f7f; text-decoration-color: #7f7f7f\">                </span>\n",
       "</pre>\n"
      ],
      "text/plain": [
       "\u001b[2;36m                   \u001b[0m\u001b[2;36m \u001b[0m\u001b[33mWARNING \u001b[0m There does not seem to be any carbon source in your medium. Please    \u001b]8;id=339340;file:///home/rseag/anaconda3/envs/MBE2/lib/python3.10/site-packages/micom/community.py\u001b\\\u001b[2mcommunity.py\u001b[0m\u001b]8;;\u001b\\\u001b[2m:\u001b[0m\u001b]8;id=701609;file:///home/rseag/anaconda3/envs/MBE2/lib/python3.10/site-packages/micom/community.py#667\u001b\\\u001b[2m667\u001b[0m\u001b]8;;\u001b\\\n",
       "\u001b[2;36m                    \u001b[0m         double-check your medium IDs.                                         \u001b[2m                \u001b[0m\n"
      ]
     },
     "metadata": {},
     "output_type": "display_data"
    },
    {
     "name": "stdout",
     "output_type": "stream",
     "text": [
      "3a\n",
      "Solution alpha: 1.0  [20. 10.]\n",
      "Solution alpha: 0.8  [14. 10.]\n",
      "Solution alpha: 0.6  [9. 9.]\n",
      "Solution alpha: 0.4  [6. 6.]\n",
      "Solution alpha: 0.2  [3. 3.]\n",
      "Solution alpha: 0.0  [5.15172584e-06 4.79644755e-06]\n",
      "\n"
     ]
    },
    {
     "data": {
      "application/vnd.jupyter.widget-view+json": {
       "model_id": "af287bab35d24c92b123b4b708553b8b",
       "version_major": 2,
       "version_minor": 0
      },
      "text/plain": [
       "Output()"
      ]
     },
     "metadata": {},
     "output_type": "display_data"
    },
    {
     "data": {
      "text/html": [
       "<pre style=\"white-space:pre;overflow-x:auto;line-height:normal;font-family:Menlo,'DejaVu Sans Mono',consolas,'Courier New',monospace\"></pre>\n"
      ],
      "text/plain": []
     },
     "metadata": {},
     "output_type": "display_data"
    },
    {
     "data": {
      "text/html": [
       "<pre style=\"white-space:pre;overflow-x:auto;line-height:normal;font-family:Menlo,'DejaVu Sans Mono',consolas,'Courier New',monospace\"><span style=\"color: #7fbfbf; text-decoration-color: #7fbfbf\">                    </span><span style=\"color: #808000; text-decoration-color: #808000\">WARNING </span> There does not seem to be any carbon source in your medium. Please    <a href=\"file:///home/rseag/anaconda3/envs/MBE2/lib/python3.10/site-packages/micom/community.py\" target=\"_blank\"><span style=\"color: #7f7f7f; text-decoration-color: #7f7f7f\">community.py</span></a><span style=\"color: #7f7f7f; text-decoration-color: #7f7f7f\">:</span><a href=\"file:///home/rseag/anaconda3/envs/MBE2/lib/python3.10/site-packages/micom/community.py#667\" target=\"_blank\"><span style=\"color: #7f7f7f; text-decoration-color: #7f7f7f\">667</span></a>\n",
       "<span style=\"color: #7fbfbf; text-decoration-color: #7fbfbf\">                    </span>         double-check your medium IDs.                                         <span style=\"color: #7f7f7f; text-decoration-color: #7f7f7f\">                </span>\n",
       "</pre>\n"
      ],
      "text/plain": [
       "\u001b[2;36m                   \u001b[0m\u001b[2;36m \u001b[0m\u001b[33mWARNING \u001b[0m There does not seem to be any carbon source in your medium. Please    \u001b]8;id=229332;file:///home/rseag/anaconda3/envs/MBE2/lib/python3.10/site-packages/micom/community.py\u001b\\\u001b[2mcommunity.py\u001b[0m\u001b]8;;\u001b\\\u001b[2m:\u001b[0m\u001b]8;id=528684;file:///home/rseag/anaconda3/envs/MBE2/lib/python3.10/site-packages/micom/community.py#667\u001b\\\u001b[2m667\u001b[0m\u001b]8;;\u001b\\\n",
       "\u001b[2;36m                    \u001b[0m         double-check your medium IDs.                                         \u001b[2m                \u001b[0m\n"
      ]
     },
     "metadata": {},
     "output_type": "display_data"
    },
    {
     "name": "stdout",
     "output_type": "stream",
     "text": [
      "3b\n",
      "Solution alpha: 1.0  [20. 20.]\n",
      "Solution alpha: 0.8  [16.000015 15.999985]\n",
      "Solution alpha: 0.6  [12.00001707 11.99998293]\n",
      "Solution alpha: 0.4  [8.00002203 7.99997797]\n",
      "Solution alpha: 0.2  [4.00003 3.99997]\n",
      "Solution alpha: 0.0  [5.75027057e-06 3.45254828e-06]\n",
      "\n"
     ]
    },
    {
     "data": {
      "application/vnd.jupyter.widget-view+json": {
       "model_id": "2338c264722b48d4858efcaee5a47715",
       "version_major": 2,
       "version_minor": 0
      },
      "text/plain": [
       "Output()"
      ]
     },
     "metadata": {},
     "output_type": "display_data"
    },
    {
     "data": {
      "text/html": [
       "<pre style=\"white-space:pre;overflow-x:auto;line-height:normal;font-family:Menlo,'DejaVu Sans Mono',consolas,'Courier New',monospace\"></pre>\n"
      ],
      "text/plain": []
     },
     "metadata": {},
     "output_type": "display_data"
    },
    {
     "data": {
      "text/html": [
       "<pre style=\"white-space:pre;overflow-x:auto;line-height:normal;font-family:Menlo,'DejaVu Sans Mono',consolas,'Courier New',monospace\"><span style=\"color: #7fbfbf; text-decoration-color: #7fbfbf\">                    </span><span style=\"color: #808000; text-decoration-color: #808000\">WARNING </span> There does not seem to be any carbon source in your medium. Please    <a href=\"file:///home/rseag/anaconda3/envs/MBE2/lib/python3.10/site-packages/micom/community.py\" target=\"_blank\"><span style=\"color: #7f7f7f; text-decoration-color: #7f7f7f\">community.py</span></a><span style=\"color: #7f7f7f; text-decoration-color: #7f7f7f\">:</span><a href=\"file:///home/rseag/anaconda3/envs/MBE2/lib/python3.10/site-packages/micom/community.py#667\" target=\"_blank\"><span style=\"color: #7f7f7f; text-decoration-color: #7f7f7f\">667</span></a>\n",
       "<span style=\"color: #7fbfbf; text-decoration-color: #7fbfbf\">                    </span>         double-check your medium IDs.                                         <span style=\"color: #7f7f7f; text-decoration-color: #7f7f7f\">                </span>\n",
       "</pre>\n"
      ],
      "text/plain": [
       "\u001b[2;36m                   \u001b[0m\u001b[2;36m \u001b[0m\u001b[33mWARNING \u001b[0m There does not seem to be any carbon source in your medium. Please    \u001b]8;id=457821;file:///home/rseag/anaconda3/envs/MBE2/lib/python3.10/site-packages/micom/community.py\u001b\\\u001b[2mcommunity.py\u001b[0m\u001b]8;;\u001b\\\u001b[2m:\u001b[0m\u001b]8;id=310445;file:///home/rseag/anaconda3/envs/MBE2/lib/python3.10/site-packages/micom/community.py#667\u001b\\\u001b[2m667\u001b[0m\u001b]8;;\u001b\\\n",
       "\u001b[2;36m                    \u001b[0m         double-check your medium IDs.                                         \u001b[2m                \u001b[0m\n"
      ]
     },
     "metadata": {},
     "output_type": "display_data"
    },
    {
     "name": "stdout",
     "output_type": "stream",
     "text": [
      "3c\n",
      "Solution alpha: 1.0  [10. 10.]\n",
      "Solution alpha: 0.8  [8. 8.]\n",
      "Solution alpha: 0.6  [6. 6.]\n",
      "Solution alpha: 0.4  [4. 4.]\n",
      "Solution alpha: 0.2  [2. 2.]\n",
      "Solution alpha: 0.0  [4.69546032e-06 5.13516786e-06]\n",
      "\n"
     ]
    }
   ],
   "source": [
    "import micom\n",
    "import pandas as pd\n",
    "import iifba \n",
    "from micom import Community\n",
    "\n",
    "micom_results = pd.DataFrame(columns=[\"simulation\", \"tradeoff\", \"Org1_growth\", \"Org2_growth\"])\n",
    "\n",
    "for sit_idx in [\"1c\",\"2a\",\"2b\", \"2c\", \"2d\", \"2e\", \"3a\", \"3b\", \"3c\"]: # \"2a\", \"2b\",\"3a\", \"3b\", \"3c\"\n",
    "\t# get media from iiFBA\n",
    "\t_ , media = iifba.utils.load_simple_models(sit_idx)\n",
    "\tmedia = {k.upper() + '_m': -v for k, v in media.items()}\n",
    "\t\n",
    "\t# make sure 2b (same model, different abundances) uses correct abundances\n",
    "\tabund = [0.2, 0.8] if sit_idx == \"2b\" else [0.5, 0.5]\n",
    "\tsim_idx = sit_idx if sit_idx != \"2b\" else \"2a\"\n",
    "\n",
    "\t# create community dataframe\n",
    "\tcommunity = pd.DataFrame({\n",
    "\t\t\"id\": [\"Org1\", \"Org2\"],\n",
    "\t\t\"file\": [f\"Simple_Models/Cobra_Models/sim{sim_idx}_1.json\", f\"Simple_Models/Cobra_Models/sim{sim_idx}_2.json\"],\n",
    "\t\t\"abundance\": abund\n",
    "\t})\n",
    "\n",
    "\t# create micom community\n",
    "\tcommunity = Community(community)\n",
    "\tcommunity.medium = media\n",
    "\tcommunity.solver = \"gurobi\"\n",
    "\n",
    "\tprint(sit_idx)\n",
    "\tsolutions = community.cooperative_tradeoff(fraction=[1, 0.8, 0.6, 0.4, 0.2, 0], pfba=True)\n",
    "\tfor idx, sol in enumerate(solutions[\"solution\"]):\n",
    "\t\tprint(f\"Solution alpha: {solutions['tradeoff'][idx]}\", end=\"  \")\n",
    "\t\t# print(sol.members)\n",
    "\t\torg_growth = (sol.members[\"abundance\"] * sol.members[\"growth_rate\"]).to_numpy()[0:-1]\n",
    "\t\tprint(org_growth)\n",
    "\t\tmicom_results.loc[len(micom_results)] = [sit_idx, solutions['tradeoff'][idx], org_growth[0], org_growth[1]]\n",
    "\n",
    "\t\t\n",
    "\tprint()\n",
    "\n",
    "micom_results.to_csv(\"Simple_Models/Results/micom_results.csv\", index=False)\n"
   ]
  },
  {
   "cell_type": "markdown",
   "id": "7a79584f",
   "metadata": {},
   "source": [
    "\n",
    "\n",
    "| Simulation | alpha | MICOM Biomass 1 | MICOM Biomass 2|\n",
    "|:----:|:-------:|:-------:|:---:|\n",
    "|1a|                |                |               |\n",
    "|1b|                |                |               |\n",
    "|1c|         0      |     0           |     0           |\n",
    "|1c|        .2      |     2           |     2           |\n",
    "|1c|        .4      |     4           |     4           |\n",
    "|1c|        .6      |     6           |     6           |\n",
    "|1c|         .8     |     8           |     8           |\n",
    "|1c|          1     |     10          |     10          |\n",
    "|-------------|-------------|-------------|-------------|\n",
    "|2a|         0      |    0            |      0         |\n",
    "|2a|        .2      |    1            |      1         |\n",
    "|2a|        .4      |    2            |      2         |\n",
    "|2a|        .6      |    3            |      3         |\n",
    "|2a|         .8     |    4            |      4         |\n",
    "|2a|          1     |    5            |      5         |\n",
    "|-------------|-------------|-------------|-------------|\n",
    "|2b|         0      |    0           |      0        |\n",
    "|2b|        .2      |   0.11764706   |  1.88235294   |\n",
    "|2b|        .4      |   0.23529412   |  3.76470588   |\n",
    "|2b|        .6      |   0.35294118   |  5.64705882   |\n",
    "|2b|         .8     |   0.47058824   |  7.52941176   |\n",
    "|2b|          1     |   0.58823529   |  9.41176471   |\n",
    "|-------------|-------------|-------------|-------------|\n",
    "|2c|         0      |    0            |      0         |\n",
    "|2c|        .2      |    0.5          |      0.5       |\n",
    "|2c|        .4      |    1            |      1         |\n",
    "|2c|        .6      |    2            |      1         |\n",
    "|2c|         .8     |    3            |      1         |\n",
    "|2c|          1     |    4            |      1         |\n",
    "|-------------|-------------|-------------|-------------|\n",
    "|3a|         0      |     0           |       0       |\n",
    "|3a|        .2      |     3           |       3       |\n",
    "|3a|        .4      |     6           |       6       |\n",
    "|3a|        .6      |     9           |       9       |\n",
    "|3a|         .8     |    14           |      10       |\n",
    "|3a|          1     |    20           |      10       |\n",
    "|-------------|-------------|-------------|-------------|\n",
    "|3b|         0      |    0            |      0          |\n",
    "|3b|        .2      |    4            |      4          |\n",
    "|3b|        .4      |    8            |      8          |\n",
    "|3b|        .6      |    12           |      12         |\n",
    "|3b|         .8     |    16           |      16         |\n",
    "|3b|          1     |    20           |      20         |\n",
    "|-------------|-------------|-------------|-------------|\n",
    "|3c|         0      |    0            |      0         |\n",
    "|3c|        .2      |    2            |      2         |\n",
    "|3c|        .4      |    4            |      4         |\n",
    "|3c|        .6      |    6            |      6         |\n",
    "|3c|         .8     |    8            |      8         |\n",
    "|3c|          1     |   10            |      10        |\n"
   ]
  },
  {
   "cell_type": "code",
   "execution_count": null,
   "id": "268fc528",
   "metadata": {},
   "outputs": [],
   "source": [
    "import iifba\n",
    "from iifba.utils import load_simple_models\n",
    "import matplotlib.pyplot as plt\n",
    "import numpy as np\n",
    "\n",
    "fig, (ax1, ax2) = plt.subplots(1, 2, figsize=(12, 6), sharey=True)\n",
    "\n",
    "models, media = load_simple_models(3)\n",
    "\n",
    "f, F = iifba.iipfba(models, media, rel_abund=[0.2,0.8], iters=10) # defualt values\n",
    "\n",
    "biomass_id = \"exchangeBio1\"\n",
    "ax1 = iifba.iifba_vis(F.loc[0,:][biomass_id], ax=ax1, line_lab=sit_idx)\n",
    "\n",
    "biomass_id = \"exchangeBio2\"\n",
    "ax2 = iifba.iifba_vis(F.loc[1,:][biomass_id], ax=ax2, line_lab=sit_idx)\n"
   ]
  },
  {
   "cell_type": "code",
   "execution_count": null,
   "id": "2bc8817a",
   "metadata": {},
   "outputs": [],
   "source": [
    "import cobra\n",
    "\n",
    "# Create a new model\n",
    "model = cobra.Model(\"toy_multicompartment\")\n",
    "\n",
    "# Define compartments\n",
    "model.compartments = {\"c\": \"cytosol\", \"e\": \"extracellular\"}\n",
    "\n",
    "# Define metabolites (simple letter names)\n",
    "A_e = cobra.Metabolite(\"A_e\", compartment=\"e\")\n",
    "A_c = cobra.Metabolite(\"A_c\", compartment=\"c\")\n",
    "B_c = cobra.Metabolite(\"B_c\", compartment=\"c\")\n",
    "C_e = cobra.Metabolite(\"C_e\", compartment=\"e\")\n",
    "C_c = cobra.Metabolite(\"C_c\", compartment=\"c\")\n",
    "\n",
    "# Exchange with environment (A import, C export)\n",
    "EX_A_e = cobra.Reaction(\"EX_A_e\")\n",
    "EX_A_e.add_metabolites({A_e: -1})\n",
    "EX_A_e.lower_bound = -1000  # allow uptake\n",
    "EX_A_e.upper_bound = 1000\n",
    "\n",
    "EX_C_e = cobra.Reaction(\"EX_C_e\")\n",
    "EX_C_e.add_metabolites({C_e: -1})\n",
    "EX_C_e.lower_bound = -1000    # allow secretion\n",
    "EX_C_e.upper_bound = 1000\n",
    "\n",
    "# Transport between compartments\n",
    "TRANS_A = cobra.Reaction(\"TRANS_A\")\n",
    "TRANS_A.add_metabolites({A_e: -1, A_c: 1})\n",
    "TRANS_A.lower_bound = -1000\n",
    "TRANS_A.upper_bound = 1000\n",
    "\n",
    "TRANS_C = cobra.Reaction(\"TRANS_C\")\n",
    "TRANS_C.add_metabolites({C_c: -1, C_e: 1})\n",
    "TRANS_C.lower_bound = -1000\n",
    "TRANS_C.upper_bound = 1000\n",
    "\n",
    "# Internal cytosolic reactions\n",
    "R1 = cobra.Reaction(\"R1\")\n",
    "R1.add_metabolites({A_c: -1, B_c: 1})\n",
    "\n",
    "R2 = cobra.Reaction(\"R2\")\n",
    "R2.add_metabolites({B_c: -1, C_c: 1})\n",
    "\n",
    "# Add reactions to the model\n",
    "model.add_reactions([EX_A_e, EX_C_e, TRANS_A, TRANS_C, R1, R2])\n",
    "\n",
    "# Set objective (e.g., maximize C export)\n",
    "model.objective = \"R2\"\n",
    "\n",
    "# Test FBA\n",
    "sol = model.optimize()\n",
    "print(f\"FBA status: {sol.status}, Objective value: {sol.objective_value}\")\n",
    "\n",
    "# Optional: Test sampling (may require mor2:e degrees of freedom in tiny models)\n",
    "try:\n",
    "    samples = cobra.sampling.sample(model, n=10)\n",
    "    print(samples.head())\n",
    "except Exception as e:\n",
    "    print(f\"Sampling failed: {e}\")"
   ]
  },
  {
   "cell_type": "code",
   "execution_count": null,
   "id": "f43c0c05",
   "metadata": {},
   "outputs": [],
   "source": [
    "import iifba\n",
    "from iifba.utils import load_simple_models, load_example_models, plot_sampling\n",
    "import matplotlib.pyplot as plt\n",
    "import numpy as np\n",
    "\n",
    "# EC, BT, media = load_example_models()\n",
    "# models = [EC, BT]\n",
    "# models, media = load_simple_models(5)\n",
    "import copy\n",
    "models = [copy.deepcopy(model), copy.deepcopy(model)]\n",
    "media = {\"EX_A_e\":-10, \"EX_C_e\": -10}\n",
    "\n",
    "rel_abund = np.ones(len(models))  # equal relative abundance for all models\n",
    "comm = iifba.Community(models, media, rel_abund=rel_abund, iters=10, objective=\"fba\")\n",
    "comm.iifba_sampling(m_vals=[10,10], convergence=None, v=True, objective_percent=0.2) # defualt values\n",
    "\n",
    "comm.env_fluxes\n",
    "plot_sampling(comm, model_idx=0)\n",
    "# summ = comm.summary()\n",
    "# #comm.env_fluxes\n",
    "\n",
    "# print(summ)  # print summary to console\n",
    "# summ"
   ]
  },
  {
   "cell_type": "code",
   "execution_count": null,
   "id": "70b8dc9b",
   "metadata": {},
   "outputs": [],
   "source": [
    "comm.cumulative_fluxes"
   ]
  },
  {
   "cell_type": "code",
   "execution_count": null,
   "id": "5a964613",
   "metadata": {},
   "outputs": [],
   "source": [
    "org = comm.org_fluxes\n",
    "cum = comm.cumulative_fluxes\n",
    "M = comm.M\n"
   ]
  }
 ],
 "metadata": {
  "kernelspec": {
   "display_name": "MBE2",
   "language": "python",
   "name": "python3"
  },
  "language_info": {
   "codemirror_mode": {
    "name": "ipython",
    "version": 3
   },
   "file_extension": ".py",
   "mimetype": "text/x-python",
   "name": "python",
   "nbconvert_exporter": "python",
   "pygments_lexer": "ipython3",
   "version": "3.10.15"
  }
 },
 "nbformat": 4,
 "nbformat_minor": 5
}
